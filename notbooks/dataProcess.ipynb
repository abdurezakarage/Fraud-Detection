{
 "cells": [
  {
   "cell_type": "code",
   "execution_count": 1,
   "id": "67d24067",
   "metadata": {},
   "outputs": [],
   "source": [
    "import pandas as pd\n",
    "import numpy as np\n",
    "from datetime import datetime\n",
    "import os\n",
    "# Add the project root directory to Python path\n",
    "import sys\n",
    "sys.path.append(os.path.abspath(os.path.join(os.path.dirname('__file__'), '..')))"
   ]
  },
  {
   "cell_type": "code",
   "execution_count": 2,
   "id": "cbd42c30",
   "metadata": {},
   "outputs": [],
   "source": [
    "from src.data_preprocessing import DataPreprocessor"
   ]
  },
  {
   "cell_type": "code",
   "execution_count": 3,
   "id": "197c8c98",
   "metadata": {},
   "outputs": [],
   "source": [
    "preprocessor = DataPreprocessor()"
   ]
  },
  {
   "cell_type": "code",
   "execution_count": null,
   "id": "c8e26665",
   "metadata": {},
   "outputs": [
    {
     "name": "stderr",
     "output_type": "stream",
     "text": [
      "INFO:src.data_preprocessing:Loading datasets...\n",
      "INFO:src.data_preprocessing:Loaded fraud data: (151112, 11)\n",
      "INFO:src.data_preprocessing:Loaded IP country data: (138846, 3)\n",
      "INFO:src.data_preprocessing:Loaded credit card data: (284807, 31)\n"
     ]
    }
   ],
   "source": [
    "  # Load data\n",
    "preprocessor.load_data(\n",
    "        fraud_path='../data/raw/Fraud_Data.csv',\n",
    "        ip_country_path='../data/raw/IpAddress_to_Country.csv',\n",
    "        credit_card_path='../data/raw/creditcard.csv'\n",
    "    )"
   ]
  },
  {
   "cell_type": "code",
   "execution_count": 5,
   "id": "1dc26fd3",
   "metadata": {},
   "outputs": [
    {
     "name": "stderr",
     "output_type": "stream",
     "text": [
      "INFO:src.data_preprocessing:Starting fraud data preprocessing...\n",
      "INFO:src.data_preprocessing:Handling missing values using strategy: impute\n",
      "INFO:src.data_preprocessing:Imputed missing values\n",
      "INFO:src.data_preprocessing:Removed 0 duplicate rows\n",
      "INFO:src.data_preprocessing:Corrected data types\n",
      "INFO:src.data_preprocessing:Merging fraud data with geolocation information...\n",
      "INFO:src.data_preprocessing:Merged data shape: (151112, 13)\n",
      "INFO:src.data_preprocessing:Countries found: 1\n",
      "INFO:src.data_preprocessing:Fraud data preprocessing completed\n"
     ]
    }
   ],
   "source": [
    "  # Preprocess fraud data\n",
    "fraud_processed = preprocessor.preprocess_fraud_data()\n",
    "    "
   ]
  },
  {
   "cell_type": "code",
   "execution_count": 6,
   "id": "c48b0547",
   "metadata": {},
   "outputs": [
    {
     "name": "stderr",
     "output_type": "stream",
     "text": [
      "INFO:src.data_preprocessing:Starting credit card data preprocessing...\n",
      "INFO:src.data_preprocessing:Handling missing values using strategy: impute\n",
      "INFO:src.data_preprocessing:Imputed missing values\n",
      "INFO:src.data_preprocessing:Removed 1081 duplicate rows\n",
      "INFO:src.data_preprocessing:Corrected data types\n",
      "INFO:src.data_preprocessing:Credit card data preprocessing completed\n"
     ]
    }
   ],
   "source": [
    "   # Preprocess credit card data\n",
    "credit_processed = preprocessor.preprocess_credit_card_data()\n",
    "    "
   ]
  },
  {
   "cell_type": "code",
   "execution_count": 7,
   "id": "23cbb7d3",
   "metadata": {},
   "outputs": [
    {
     "name": "stderr",
     "output_type": "stream",
     "text": [
      "INFO:src.data_preprocessing:Class distribution: {'class_counts': {0: 136961, 1: 14151}, 'total_samples': 151112, 'imbalance_ratio': np.float64(0.10332138345952498), 'fraud_percentage': np.float64(9.364577267192546)}\n",
      "INFO:src.data_preprocessing:Class distribution: {'class_counts': {0: 283253, 1: 473}, 'total_samples': 283726, 'imbalance_ratio': np.float64(0.0016698852262818046), 'fraud_percentage': np.float64(0.1667101358352777)}\n"
     ]
    }
   ],
   "source": [
    "  # Analyze class distribution\n",
    "fraud_dist = preprocessor.get_class_distribution(fraud_processed)\n",
    "credit_dist = preprocessor.get_class_distribution(credit_processed, 'Class')\n",
    "    "
   ]
  },
  {
   "cell_type": "code",
   "execution_count": 8,
   "id": "3d6321f1",
   "metadata": {},
   "outputs": [
    {
     "name": "stdout",
     "output_type": "stream",
     "text": [
      "Saving preprocessed data...\n"
     ]
    }
   ],
   "source": [
    "# Save preprocessed data\n",
    "print(\"Saving preprocessed data...\")\n",
    " # Create output directory if it doesn't exist\n",
    "output_dir = '../data/processed'\n",
    "os.makedirs(output_dir, exist_ok=True)"
   ]
  },
  {
   "cell_type": "code",
   "execution_count": 9,
   "id": "0cb487ad",
   "metadata": {},
   "outputs": [
    {
     "name": "stdout",
     "output_type": "stream",
     "text": [
      "✅ Saved fraud processed data: (151112, 13) -> ../data/processed\\fraud_processed.csv\n"
     ]
    }
   ],
   "source": [
    " # Save fraud data\n",
    "fraud_output_path = os.path.join(output_dir, 'fraud_processed.csv')\n",
    "fraud_processed.to_csv(fraud_output_path, index=False)\n",
    "print(f\"✅ Saved fraud processed data: {fraud_processed.shape} -> {fraud_output_path}\")\n",
    "    "
   ]
  },
  {
   "cell_type": "code",
   "execution_count": 10,
   "id": "fbc2d90f",
   "metadata": {},
   "outputs": [
    {
     "name": "stdout",
     "output_type": "stream",
     "text": [
      "✅ Saved credit card processed data: (283726, 31) -> ../data/processed\\credit_processed.csv\n"
     ]
    }
   ],
   "source": [
    " # Save credit card data\n",
    "credit_output_path = os.path.join(output_dir, 'credit_processed.csv')\n",
    "credit_processed.to_csv(credit_output_path, index=False)\n",
    "print(f\"✅ Saved credit card processed data: {credit_processed.shape} -> {credit_output_path}\")\n",
    "    "
   ]
  },
  {
   "cell_type": "code",
   "execution_count": 11,
   "id": "97c35c0a",
   "metadata": {},
   "outputs": [],
   "source": [
    "  # Save summary statistics\n",
    "summary_stats = {\n",
    "        'fraud_data': {\n",
    "            'shape': fraud_processed.shape,\n",
    "            'class_distribution': fraud_dist,\n",
    "            'columns': list(fraud_processed.columns),\n",
    "            'file_path': fraud_output_path\n",
    "        },\n",
    "        'credit_card_data': {\n",
    "            'shape': credit_processed.shape,\n",
    "            'class_distribution': credit_dist,\n",
    "            'columns': list(credit_processed.columns),\n",
    "            'file_path': credit_output_path\n",
    "        },\n",
    "        'preprocessing_info': {\n",
    "            'fraud_data_original_shape': (151112, 11),\n",
    "            'credit_card_original_shape': (284807, 31),\n",
    "            'duplicates_removed': 1081,\n",
    "            'missing_values_handled': 'imputed',\n",
    "            'geolocation_merged': True,\n",
    "            'countries_found': fraud_processed['country'].nunique() if 'country' in fraud_processed.columns else 0\n",
    "        }\n",
    "    }"
   ]
  }
 ],
 "metadata": {
  "kernelspec": {
   "display_name": "Python 3",
   "language": "python",
   "name": "python3"
  },
  "language_info": {
   "codemirror_mode": {
    "name": "ipython",
    "version": 3
   },
   "file_extension": ".py",
   "mimetype": "text/x-python",
   "name": "python",
   "nbconvert_exporter": "python",
   "pygments_lexer": "ipython3",
   "version": "3.13.5"
  }
 },
 "nbformat": 4,
 "nbformat_minor": 5
}

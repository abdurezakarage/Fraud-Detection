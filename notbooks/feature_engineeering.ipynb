{
 "cells": [
  {
   "cell_type": "code",
   "execution_count": 5,
   "id": "4c2a5d05",
   "metadata": {},
   "outputs": [],
   "source": [
    "import pandas as pd\n",
    "import numpy as np\n",
    "from datetime import datetime\n",
    "import os\n",
    "# Add the project root directory to Python path\n",
    "import sys\n",
    "sys.path.append(os.path.abspath(os.path.join(os.path.dirname('__file__'), '..')))"
   ]
  },
  {
   "cell_type": "code",
   "execution_count": 6,
   "id": "61441763",
   "metadata": {},
   "outputs": [],
   "source": [
    "from src.feature_enfineering import FeatureEngineer"
   ]
  },
  {
   "cell_type": "code",
   "execution_count": 9,
   "id": "c2e3eb09",
   "metadata": {},
   "outputs": [],
   "source": [
    "# Initialize feature engineer\n",
    "feature_engineer = FeatureEngineer('../data/processed/fraud_processed.csv')"
   ]
  },
  {
   "cell_type": "code",
   "execution_count": 10,
   "id": "4328fe6c",
   "metadata": {},
   "outputs": [
    {
     "name": "stderr",
     "output_type": "stream",
     "text": [
      "2025-07-20 11:58:28,529 - INFO - Starting comprehensive feature engineering...\n",
      "2025-07-20 11:58:28,530 - INFO - Loading data from ../data/processed/fraud_processed.csv...\n",
      "2025-07-20 11:58:29,280 - INFO - Data loaded successfully: (151112, 13)\n",
      "2025-07-20 11:58:29,589 - INFO - Date range: 2015-01-01 00:00:44 to 2015-12-16 02:56:05\n",
      "2025-07-20 11:58:29,590 - INFO - Creating time-based features...\n",
      "2025-07-20 11:58:29,869 - INFO - Time-based features created successfully\n",
      "2025-07-20 11:58:29,870 - INFO - Calculating time since signup features...\n",
      "2025-07-20 11:58:29,973 - INFO - Time since signup features calculated successfully\n",
      "2025-07-20 11:58:29,979 - INFO - Creating transaction frequency features...\n",
      "2025-07-20 11:58:30,553 - INFO - Transaction frequency features created successfully\n",
      "2025-07-20 11:58:30,569 - INFO - Creating transaction velocity features...\n",
      "2025-07-20 11:58:31,060 - INFO - Transaction velocity features created successfully\n",
      "2025-07-20 11:58:31,077 - INFO - Creating user behavior features...\n",
      "2025-07-20 11:58:31,856 - INFO - User behavior features created successfully\n",
      "2025-07-20 11:58:31,873 - INFO - Creating seasonal features...\n",
      "2025-07-20 11:58:32,059 - INFO - Seasonal features created successfully\n",
      "2025-07-20 11:58:32,082 - INFO - Feature engineering completed. Final shape: (151112, 74)\n",
      "2025-07-20 11:58:32,083 - INFO - Total features created: 74\n"
     ]
    }
   ],
   "source": [
    "# Engineer all features\n",
    "features_df = feature_engineer.engineer_all_features()"
   ]
  },
  {
   "cell_type": "code",
   "execution_count": 11,
   "id": "a2d1f063",
   "metadata": {},
   "outputs": [
    {
     "name": "stdout",
     "output_type": "stream",
     "text": [
      "\n",
      "============================================================\n",
      "FEATURE ENGINEERING SUMMARY\n",
      "============================================================\n",
      "Total Features: 74\n",
      "Original Features: 13\n",
      "Engineered Features: 61\n",
      "\n",
      "Feature Categories:\n",
      "  • Time Based: 29 features\n",
      "  • Transaction Frequency: 2 features\n",
      "  • Transaction Velocity: 5 features\n",
      "  • Time Since Signup: 5 features\n",
      "  • User Behavior: 8 features\n",
      "  • Seasonal: 20 features\n",
      "\n",
      "Key Features Created:\n",
      "  • hour_of_day, day_of_week, month, year\n",
      "  • time_since_signup (seconds, minutes, hours, days)\n",
      "  • transaction frequency and velocity metrics\n",
      "  • user behavior patterns\n",
      "  • seasonal/cyclical encodings\n",
      "============================================================\n"
     ]
    }
   ],
   "source": [
    "# Print summary\n",
    "feature_engineer.print_feature_summary()"
   ]
  },
  {
   "cell_type": "code",
   "execution_count": 13,
   "id": "a0386056",
   "metadata": {},
   "outputs": [
    {
     "name": "stderr",
     "output_type": "stream",
     "text": [
      "2025-07-20 12:00:14,995 - INFO - Saving engineered features to ../data/processed/fraud_features_engineered.csv...\n",
      "2025-07-20 12:00:28,288 - INFO - Features saved successfully to ../data/processed/fraud_features_engineered.csv\n"
     ]
    },
    {
     "name": "stdout",
     "output_type": "stream",
     "text": [
      "\n",
      "Feature engineering completed successfully!\n"
     ]
    }
   ],
   "source": [
    "# Save features\n",
    "feature_engineer.save_features('../data/processed/fraud_features_engineered.csv')\n",
    "print(\"\\nFeature engineering completed successfully!\")"
   ]
  }
 ],
 "metadata": {
  "kernelspec": {
   "display_name": "Python 3",
   "language": "python",
   "name": "python3"
  },
  "language_info": {
   "codemirror_mode": {
    "name": "ipython",
    "version": 3
   },
   "file_extension": ".py",
   "mimetype": "text/x-python",
   "name": "python",
   "nbconvert_exporter": "python",
   "pygments_lexer": "ipython3",
   "version": "3.13.5"
  }
 },
 "nbformat": 4,
 "nbformat_minor": 5
}

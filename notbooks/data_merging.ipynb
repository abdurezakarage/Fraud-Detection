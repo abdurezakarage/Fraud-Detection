{
 "cells": [
  {
   "cell_type": "code",
   "execution_count": 1,
   "id": "59438b05",
   "metadata": {},
   "outputs": [],
   "source": [
    "import pandas as pd\n",
    "import numpy as np\n",
    "from datetime import datetime\n",
    "import os\n",
    "# Add the project root directory to Python path\n",
    "import sys\n",
    "sys.path.append(os.path.abspath(os.path.join(os.path.dirname('__file__'), '..')))"
   ]
  },
  {
   "cell_type": "code",
   "execution_count": 3,
   "id": "73748671",
   "metadata": {},
   "outputs": [],
   "source": [
    "from src.data_merger import ProcessedDataMerger"
   ]
  },
  {
   "cell_type": "code",
   "execution_count": 4,
   "id": "a3ae1a71",
   "metadata": {},
   "outputs": [
    {
     "name": "stdout",
     "output_type": "stream",
     "text": [
      "Starting comprehensive fraud detection analysis...\n",
      "============================================================\n"
     ]
    }
   ],
   "source": [
    " # Initialize the processed data merger\n",
    "fraud_processed_path = '../data/processed/fraud_processed.csv'\n",
    "credit_processed_path = '../data/processed/credit_processed.csv'\n",
    "    \n",
    "merger = ProcessedDataMerger(fraud_processed_path, credit_processed_path)\n",
    "    \n",
    "print(\"Starting comprehensive fraud detection analysis...\")\n",
    "print(\"=\"*60)"
   ]
  },
  {
   "cell_type": "code",
   "execution_count": 5,
   "id": "41dca16d",
   "metadata": {},
   "outputs": [
    {
     "name": "stderr",
     "output_type": "stream",
     "text": [
      "2025-07-20 11:44:32,408 - INFO - Loading processed fraud data...\n",
      "2025-07-20 11:44:32,962 - INFO - Fraud processed data loaded: (151112, 13)\n",
      "2025-07-20 11:44:32,963 - INFO - Loading processed credit card data...\n",
      "2025-07-20 11:44:36,360 - INFO - Credit processed data loaded: (283726, 31)\n",
      "2025-07-20 11:44:36,361 - INFO - Creating comprehensive analysis...\n",
      "2025-07-20 11:44:36,362 - INFO - Analyzing fraud data with geolocation...\n",
      "2025-07-20 11:44:36,423 - INFO - Fraud rate: 0.0936\n",
      "2025-07-20 11:44:36,423 - INFO - Countries found: 1\n",
      "2025-07-20 11:44:36,424 - INFO - High-risk countries: 0\n",
      "2025-07-20 11:44:36,424 - INFO - Analyzing credit card data...\n",
      "d:\\AI\\Week- 8\\Week 8 Project\\Fraud-Detection\\src\\data_merger.py:97: FutureWarning: The default of observed=False is deprecated and will be changed to True in a future version of pandas. Pass observed=False to retain current behavior or observed=True to adopt the future default and silence this warning.\n",
      "  amount_fraud_analysis = self.credit_data.groupby('amount_category').agg({\n",
      "2025-07-20 11:44:36,513 - INFO - Credit card fraud rate: 0.001667\n",
      "2025-07-20 11:44:36,514 - INFO - Average transaction amount: $88.47\n",
      "2025-07-20 11:44:36,514 - INFO - Comprehensive analysis completed!\n"
     ]
    },
    {
     "name": "stdout",
     "output_type": "stream",
     "text": [
      "\n",
      "============================================================\n"
     ]
    }
   ],
   "source": [
    "# Load processed data\n",
    "merger.load_processed_data()\n",
    "    \n",
    "# Create comprehensive analysis\n",
    "analysis = merger.create_comprehensive_analysis()\n",
    "    \n",
    "# Print summary\n",
    "merger.print_analysis_summary(analysis)"
   ]
  },
  {
   "cell_type": "code",
   "execution_count": 6,
   "id": "deace9a3",
   "metadata": {},
   "outputs": [
    {
     "name": "stderr",
     "output_type": "stream",
     "text": [
      "2025-07-20 11:44:39,002 - INFO - Creating geolocation summary...\n"
     ]
    },
    {
     "name": "stdout",
     "output_type": "stream",
     "text": [
      "\n",
      "DETAILED GEOLOCATION SUMMARY:\n",
      "========================================\n",
      "           Total_Transactions  Fraud_Count  Avg_Purchase_Value  \\\n",
      "country                                                          \n",
      "Australia              151112        14151             36.9354   \n",
      "\n",
      "           Total_Purchase_Value  Unique_Users  Fraud_Rate  \\\n",
      "country                                                     \n",
      "Australia               5581378        151112      0.0936   \n",
      "\n",
      "           Avg_Transaction_Value  \n",
      "country                           \n",
      "Australia                  36.94  \n"
     ]
    }
   ],
   "source": [
    "# Get detailed geolocation summary\n",
    "print(\"\\nDETAILED GEOLOCATION SUMMARY:\")\n",
    "print(\"=\"*40)\n",
    "geolocation_summary = merger.get_geolocation_summary()\n",
    "print(geolocation_summary.head(10))\n",
    "    "
   ]
  },
  {
   "cell_type": "code",
   "execution_count": 7,
   "id": "9a8b3885",
   "metadata": {},
   "outputs": [
    {
     "name": "stderr",
     "output_type": "stream",
     "text": [
      "2025-07-20 11:44:44,099 - INFO - Saving analysis results to ../data/merged/comprehensive_analysis.csv...\n",
      "2025-07-20 11:44:44,100 - INFO - Creating geolocation summary...\n",
      "2025-07-20 11:44:44,147 - INFO - Geolocation summary saved to ../data/merged/comprehensive_analysis_geolocation_summary.csv\n",
      "2025-07-20 11:44:44,150 - INFO - Country analysis saved to ../data/merged/comprehensive_analysis_country_analysis.csv\n",
      "2025-07-20 11:44:44,153 - INFO - Summary saved to ../data/merged/comprehensive_analysis_summary.csv\n"
     ]
    },
    {
     "name": "stdout",
     "output_type": "stream",
     "text": [
      "\n",
      "Analysis results saved to:\n",
      "  - ../data/merged/comprehensive_analysis_geolocation_summary.csv\n",
      "  - ../data/merged/comprehensive_analysis_country_analysis.csv\n",
      "  - ../data/merged/comprehensive_analysis_summary.csv\n"
     ]
    }
   ],
   "source": [
    "# Save results\n",
    "output_path = '../data/merged/comprehensive_analysis.csv'\n",
    "merger.save_analysis_results(output_path, analysis)\n",
    "    \n",
    "print(f\"\\nAnalysis results saved to:\")\n",
    "print(f\"  - {output_path.replace('.csv', '_geolocation_summary.csv')}\")\n",
    "print(f\"  - {output_path.replace('.csv', '_country_analysis.csv')}\")\n",
    "print(f\"  - {output_path.replace('.csv', '_summary.csv')}\")\n",
    "    "
   ]
  },
  {
   "cell_type": "code",
   "execution_count": 9,
   "id": "1cfd3ed7",
   "metadata": {},
   "outputs": [
    {
     "name": "stdout",
     "output_type": "stream",
     "text": [
      "\n",
      "KEY INSIGHTS:\n",
      "========================================\n",
      "• Fraud dataset fraud rate: 0.0936 (9.36%)\n",
      "• Credit card dataset fraud rate: 0.001667 (0.1667%)\n",
      "\n",
      "• Top country by transactions: Australia (151,112.0 transactions)\n",
      "\n",
      "• Average credit card transaction: $88.47\n",
      "• Credit card transactions analyzed: 283,726\n"
     ]
    }
   ],
   "source": [
    "# Show some key insights\n",
    "print(\"\\nKEY INSIGHTS:\")\n",
    "print(\"=\"*40)\n",
    "# Fraud rate comparison\n",
    "fraud_rate = analysis['fraud_dataset']['fraud_rate']\n",
    "credit_rate = analysis['credit_dataset']['fraud_rate']\n",
    "print(f\"• Fraud dataset fraud rate: {fraud_rate:.4f} ({fraud_rate*100:.2f}%)\")\n",
    "print(f\"• Credit card dataset fraud rate: {credit_rate:.6f} ({credit_rate*100:.4f}%)\")\n",
    " # Country insights\n",
    "top_countries = analysis['fraud_dataset']['top_countries']\n",
    "print(f\"\\n• Top country by transactions: {top_countries.index[0]} ({top_countries.iloc[0]['Total_Transactions']:,} transactions)\")\n",
    "high_risk_countries = analysis['fraud_dataset']['high_risk_countries']\n",
    "if not high_risk_countries.empty:\n",
    "        worst_country = high_risk_countries.iloc[0]\n",
    "        print(f\"• Highest fraud rate country: {high_risk_countries.index[0]} ({worst_country['Fraud_Rate']:.4f} fraud rate)\")\n",
    " # Credit card insights\n",
    "credit_stats = analysis['credit_dataset']['amount_stats']\n",
    "print(f\"\\n• Average credit card transaction: ${credit_stats['mean']:.2f}\")\n",
    "print(f\"• Credit card transactions analyzed: {analysis['credit_dataset']['total_records']:,}\")"
   ]
  }
 ],
 "metadata": {
  "kernelspec": {
   "display_name": "Python 3",
   "language": "python",
   "name": "python3"
  },
  "language_info": {
   "codemirror_mode": {
    "name": "ipython",
    "version": 3
   },
   "file_extension": ".py",
   "mimetype": "text/x-python",
   "name": "python",
   "nbconvert_exporter": "python",
   "pygments_lexer": "ipython3",
   "version": "3.13.5"
  }
 },
 "nbformat": 4,
 "nbformat_minor": 5
}
